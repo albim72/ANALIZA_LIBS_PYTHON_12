{
 "cells":[
  {
   "cell_type":"code",
   "source":[
    "import numpy as np\n",
    "import pandas as pd\n",
    "PREVIOUS_MAX_ROWS = pd.options.display.max_rows\n",
    "pd.options.display.max_rows = 20\n",
    "np.random.seed(12345)\n",
    "import matplotlib.pyplot as plt\n",
    "%matplotlib inline\n",
    "plt.rc('figure',figsize=(10,6))\n",
    "np.set_printoptions(precision=4,suppress=True)"
   ],
   "execution_count":2,
   "outputs":[
    
   ],
   "metadata":{
    "datalore":{
     "node_id":"bRkXr8KlOjvDz1g2bXFsNS",
     "type":"CODE",
     "hide_input_from_viewers":true,
     "hide_output_from_viewers":true
    }
   }
  },
  {
   "cell_type":"code",
   "source":[
    "#mechanika interfejsu grupowania\n",
    "df = pd.DataFrame({\n",
    "    'klucz1':['a','a','b','b','a'],\n",
    "    'klucz2':['jeden','dwa','jeden','dwa','jeden'],\n",
    "    'dane1':np.random.randn(5),\n",
    "    'dane2':np.random.randn(5)\n",
    "})\n",
    "\n",
    "df"
   ],
   "execution_count":5,
   "outputs":[
    {
     "data":{
      "text\/html":[
       "<div>\n",
       "<style scoped>\n",
       "    .dataframe tbody tr th:only-of-type {\n",
       "        vertical-align: middle;\n",
       "    }\n",
       "\n",
       "    .dataframe tbody tr th {\n",
       "        vertical-align: top;\n",
       "    }\n",
       "\n",
       "    .dataframe thead th {\n",
       "        text-align: right;\n",
       "    }\n",
       "<\/style>\n",
       "<table border=\"1\" class=\"dataframe\">\n",
       "  <thead>\n",
       "    <tr style=\"text-align: right;\">\n",
       "      <th><\/th>\n",
       "      <th>klucz1<\/th>\n",
       "      <th>klucz2<\/th>\n",
       "      <th>dane1<\/th>\n",
       "      <th>dane2<\/th>\n",
       "    <\/tr>\n",
       "  <\/thead>\n",
       "  <tbody>\n",
       "    <tr>\n",
       "      <th>0<\/th>\n",
       "      <td>a<\/td>\n",
       "      <td>jeden<\/td>\n",
       "      <td>-0.539741<\/td>\n",
       "      <td>0.124121<\/td>\n",
       "    <\/tr>\n",
       "    <tr>\n",
       "      <th>1<\/th>\n",
       "      <td>a<\/td>\n",
       "      <td>dwa<\/td>\n",
       "      <td>0.476985<\/td>\n",
       "      <td>0.302614<\/td>\n",
       "    <\/tr>\n",
       "    <tr>\n",
       "      <th>2<\/th>\n",
       "      <td>b<\/td>\n",
       "      <td>jeden<\/td>\n",
       "      <td>3.248944<\/td>\n",
       "      <td>0.523772<\/td>\n",
       "    <\/tr>\n",
       "    <tr>\n",
       "      <th>3<\/th>\n",
       "      <td>b<\/td>\n",
       "      <td>dwa<\/td>\n",
       "      <td>-1.021228<\/td>\n",
       "      <td>0.000940<\/td>\n",
       "    <\/tr>\n",
       "    <tr>\n",
       "      <th>4<\/th>\n",
       "      <td>a<\/td>\n",
       "      <td>jeden<\/td>\n",
       "      <td>-0.577087<\/td>\n",
       "      <td>1.343810<\/td>\n",
       "    <\/tr>\n",
       "  <\/tbody>\n",
       "<\/table>\n",
       "<\/div>"
      ]
     },
     "metadata":{
      
     },
     "output_type":"display_data"
    }
   ],
   "metadata":{
    "datalore":{
     "node_id":"6llX1gala0CjPmp7XRnvzW",
     "type":"CODE",
     "hide_input_from_viewers":true,
     "hide_output_from_viewers":true
    }
   }
  },
  {
   "cell_type":"code",
   "source":[
    "grouped = df['dane1'].groupby(df['klucz1'])\n",
    "grouped"
   ],
   "execution_count":6,
   "outputs":[
    {
     "data":{
      "text\/plain":[
       "<pandas.core.groupby.generic.SeriesGroupBy object at 0x7fdfabf4f700>"
      ]
     },
     "metadata":{
      
     },
     "output_type":"display_data"
    }
   ],
   "metadata":{
    "datalore":{
     "node_id":"WYE0OGlfHAVC9mjfqL4F22",
     "type":"CODE",
     "hide_input_from_viewers":true,
     "hide_output_from_viewers":true
    }
   }
  },
  {
   "cell_type":"code",
   "source":[
    "grouped.mean()"
   ],
   "execution_count":7,
   "outputs":[
    {
     "data":{
      "text\/html":[
       "<pre>klucz1\n",
       "a   -0.213281\n",
       "b    1.113858\n",
       "Name: dane1, dtype: float64<\/pre>"
      ]
     },
     "metadata":{
      
     },
     "output_type":"display_data"
    }
   ],
   "metadata":{
    "datalore":{
     "node_id":"LbIFEGzYMLtGgQgFZ2rcLL",
     "type":"CODE",
     "hide_input_from_viewers":true,
     "hide_output_from_viewers":true
    }
   }
  },
  {
   "cell_type":"code",
   "source":[
    "means = df['dane1'].groupby([df['klucz1'],df['klucz2']]).mean()\n",
    "\n",
    "means"
   ],
   "execution_count":8,
   "outputs":[
    {
     "data":{
      "text\/html":[
       "<pre>klucz1  klucz2\n",
       "a       dwa       0.476985\n",
       "        jeden    -0.558414\n",
       "b       dwa      -1.021228\n",
       "        jeden     3.248944\n",
       "Name: dane1, dtype: float64<\/pre>"
      ]
     },
     "metadata":{
      
     },
     "output_type":"display_data"
    }
   ],
   "metadata":{
    "datalore":{
     "node_id":"oXOwYA8Trq2ZN6H2hBuRfN",
     "type":"CODE",
     "hide_input_from_viewers":true,
     "hide_output_from_viewers":true
    }
   }
  },
  {
   "cell_type":"code",
   "source":[
    "means.unstack()"
   ],
   "execution_count":9,
   "outputs":[
    {
     "data":{
      "text\/html":[
       "<div>\n",
       "<style scoped>\n",
       "    .dataframe tbody tr th:only-of-type {\n",
       "        vertical-align: middle;\n",
       "    }\n",
       "\n",
       "    .dataframe tbody tr th {\n",
       "        vertical-align: top;\n",
       "    }\n",
       "\n",
       "    .dataframe thead th {\n",
       "        text-align: right;\n",
       "    }\n",
       "<\/style>\n",
       "<table border=\"1\" class=\"dataframe\">\n",
       "  <thead>\n",
       "    <tr style=\"text-align: right;\">\n",
       "      <th>klucz2<\/th>\n",
       "      <th>dwa<\/th>\n",
       "      <th>jeden<\/th>\n",
       "    <\/tr>\n",
       "    <tr>\n",
       "      <th>klucz1<\/th>\n",
       "      <th><\/th>\n",
       "      <th><\/th>\n",
       "    <\/tr>\n",
       "  <\/thead>\n",
       "  <tbody>\n",
       "    <tr>\n",
       "      <th>a<\/th>\n",
       "      <td>0.476985<\/td>\n",
       "      <td>-0.558414<\/td>\n",
       "    <\/tr>\n",
       "    <tr>\n",
       "      <th>b<\/th>\n",
       "      <td>-1.021228<\/td>\n",
       "      <td>3.248944<\/td>\n",
       "    <\/tr>\n",
       "  <\/tbody>\n",
       "<\/table>\n",
       "<\/div>"
      ]
     },
     "metadata":{
      
     },
     "output_type":"display_data"
    }
   ],
   "metadata":{
    "datalore":{
     "node_id":"p7GAgCqyqe87ovDSNmUz18",
     "type":"CODE",
     "hide_input_from_viewers":true,
     "hide_output_from_viewers":true
    }
   }
  },
  {
   "cell_type":"code",
   "source":[
    "woj = np.array(['mazowieckie','małopolskie','lubelskie','pomorskie','śląskie'])\n",
    "lata = np.array([2018,2018,2020,2018,2020])\n",
    "df['dane1'].groupby([woj,lata]).mean()"
   ],
   "execution_count":13,
   "outputs":[
    {
     "data":{
      "text\/html":[
       "<pre>lubelskie    2020    3.248944\n",
       "mazowieckie  2018   -0.539741\n",
       "małopolskie  2018    0.476985\n",
       "pomorskie    2018   -1.021228\n",
       "śląskie      2020   -0.577087\n",
       "Name: dane1, dtype: float64<\/pre>"
      ]
     },
     "metadata":{
      
     },
     "output_type":"display_data"
    }
   ],
   "metadata":{
    "datalore":{
     "node_id":"SGozNosfLsQGR3gISZAvLA",
     "type":"CODE",
     "hide_input_from_viewers":true,
     "hide_output_from_viewers":true
    }
   }
  },
  {
   "cell_type":"code",
   "source":[
    "df.groupby('klucz1').mean()"
   ],
   "execution_count":14,
   "outputs":[
    {
     "name":"stderr",
     "text":[
      "<ipython-input-14-1f540c8b2067>:1: FutureWarning: The default value of numeric_only in DataFrameGroupBy.mean is deprecated. In a future version, numeric_only will default to False. Either specify numeric_only or select only columns which should be valid for the function.\n",
      "  df.groupby('klucz1').mean()\n"
     ],
     "output_type":"stream"
    },
    {
     "data":{
      "text\/html":[
       "<div>\n",
       "<style scoped>\n",
       "    .dataframe tbody tr th:only-of-type {\n",
       "        vertical-align: middle;\n",
       "    }\n",
       "\n",
       "    .dataframe tbody tr th {\n",
       "        vertical-align: top;\n",
       "    }\n",
       "\n",
       "    .dataframe thead th {\n",
       "        text-align: right;\n",
       "    }\n",
       "<\/style>\n",
       "<table border=\"1\" class=\"dataframe\">\n",
       "  <thead>\n",
       "    <tr style=\"text-align: right;\">\n",
       "      <th><\/th>\n",
       "      <th>dane1<\/th>\n",
       "      <th>dane2<\/th>\n",
       "    <\/tr>\n",
       "    <tr>\n",
       "      <th>klucz1<\/th>\n",
       "      <th><\/th>\n",
       "      <th><\/th>\n",
       "    <\/tr>\n",
       "  <\/thead>\n",
       "  <tbody>\n",
       "    <tr>\n",
       "      <th>a<\/th>\n",
       "      <td>-0.213281<\/td>\n",
       "      <td>0.590182<\/td>\n",
       "    <\/tr>\n",
       "    <tr>\n",
       "      <th>b<\/th>\n",
       "      <td>1.113858<\/td>\n",
       "      <td>0.262356<\/td>\n",
       "    <\/tr>\n",
       "  <\/tbody>\n",
       "<\/table>\n",
       "<\/div>"
      ]
     },
     "metadata":{
      
     },
     "output_type":"display_data"
    }
   ],
   "metadata":{
    "datalore":{
     "node_id":"8Gnw4JQwV8wgg0YOaCBu63",
     "type":"CODE",
     "hide_input_from_viewers":true,
     "hide_output_from_viewers":true
    }
   }
  },
  {
   "cell_type":"code",
   "source":[
    "df.groupby(['klucz1','klucz2']).mean()"
   ],
   "execution_count":15,
   "outputs":[
    {
     "data":{
      "text\/html":[
       "<div>\n",
       "<style scoped>\n",
       "    .dataframe tbody tr th:only-of-type {\n",
       "        vertical-align: middle;\n",
       "    }\n",
       "\n",
       "    .dataframe tbody tr th {\n",
       "        vertical-align: top;\n",
       "    }\n",
       "\n",
       "    .dataframe thead th {\n",
       "        text-align: right;\n",
       "    }\n",
       "<\/style>\n",
       "<table border=\"1\" class=\"dataframe\">\n",
       "  <thead>\n",
       "    <tr style=\"text-align: right;\">\n",
       "      <th><\/th>\n",
       "      <th><\/th>\n",
       "      <th>dane1<\/th>\n",
       "      <th>dane2<\/th>\n",
       "    <\/tr>\n",
       "    <tr>\n",
       "      <th>klucz1<\/th>\n",
       "      <th>klucz2<\/th>\n",
       "      <th><\/th>\n",
       "      <th><\/th>\n",
       "    <\/tr>\n",
       "  <\/thead>\n",
       "  <tbody>\n",
       "    <tr>\n",
       "      <th rowspan=\"2\" valign=\"top\">a<\/th>\n",
       "      <th>dwa<\/th>\n",
       "      <td>0.476985<\/td>\n",
       "      <td>0.302614<\/td>\n",
       "    <\/tr>\n",
       "    <tr>\n",
       "      <th>jeden<\/th>\n",
       "      <td>-0.558414<\/td>\n",
       "      <td>0.733966<\/td>\n",
       "    <\/tr>\n",
       "    <tr>\n",
       "      <th rowspan=\"2\" valign=\"top\">b<\/th>\n",
       "      <th>dwa<\/th>\n",
       "      <td>-1.021228<\/td>\n",
       "      <td>0.000940<\/td>\n",
       "    <\/tr>\n",
       "    <tr>\n",
       "      <th>jeden<\/th>\n",
       "      <td>3.248944<\/td>\n",
       "      <td>0.523772<\/td>\n",
       "    <\/tr>\n",
       "  <\/tbody>\n",
       "<\/table>\n",
       "<\/div>"
      ]
     },
     "metadata":{
      
     },
     "output_type":"display_data"
    }
   ],
   "metadata":{
    "datalore":{
     "node_id":"JAkcmEGhXdXZecJU9sjmCg",
     "type":"CODE",
     "hide_input_from_viewers":true,
     "hide_output_from_viewers":true
    }
   }
  },
  {
   "cell_type":"code",
   "source":[
    "df.groupby(['klucz1','klucz2']).size()"
   ],
   "execution_count":16,
   "outputs":[
    {
     "data":{
      "text\/html":[
       "<pre>klucz1  klucz2\n",
       "a       dwa       1\n",
       "        jeden     2\n",
       "b       dwa       1\n",
       "        jeden     1\n",
       "dtype: int64<\/pre>"
      ]
     },
     "metadata":{
      
     },
     "output_type":"display_data"
    }
   ],
   "metadata":{
    "datalore":{
     "node_id":"f2uvpWydSv6bJBZzYku2Z4",
     "type":"CODE",
     "hide_input_from_viewers":true,
     "hide_output_from_viewers":true
    }
   }
  },
  {
   "cell_type":"code",
   "source":[
    "df['dane1'].groupby([woj]).mean()"
   ],
   "execution_count":17,
   "outputs":[
    {
     "data":{
      "text\/html":[
       "<pre>lubelskie      3.248944\n",
       "mazowieckie   -0.539741\n",
       "małopolskie    0.476985\n",
       "pomorskie     -1.021228\n",
       "śląskie       -0.577087\n",
       "Name: dane1, dtype: float64<\/pre>"
      ]
     },
     "metadata":{
      
     },
     "output_type":"display_data"
    }
   ],
   "metadata":{
    "datalore":{
     "node_id":"M9HHPzsTeZ7gfO00IOYKb4",
     "type":"CODE",
     "hide_input_from_viewers":true,
     "hide_output_from_viewers":true
    }
   }
  },
  {
   "cell_type":"code",
   "source":[
    "df['dane1'].groupby([lata]).mean()"
   ],
   "execution_count":18,
   "outputs":[
    {
     "data":{
      "text\/html":[
       "<pre>2018   -0.361328\n",
       "2020    1.335928\n",
       "Name: dane1, dtype: float64<\/pre>"
      ]
     },
     "metadata":{
      
     },
     "output_type":"display_data"
    }
   ],
   "metadata":{
    "datalore":{
     "node_id":"L1ugc35isBeWuNiCf3Qhcp",
     "type":"CODE",
     "hide_input_from_viewers":true,
     "hide_output_from_viewers":true
    }
   }
  },
  {
   "cell_type":"code",
   "source":[
    "#iteracja po grupach\n",
    "for name,group in df.groupby('klucz1'):\n",
    "    print(name)\n",
    "    print(group)"
   ],
   "execution_count":19,
   "outputs":[
    {
     "name":"stdout",
     "text":[
      "a\n",
      "  klucz1 klucz2     dane1     dane2\n",
      "0      a  jeden -0.539741  0.124121\n",
      "1      a    dwa  0.476985  0.302614\n",
      "4      a  jeden -0.577087  1.343810\n",
      "b\n",
      "  klucz1 klucz2     dane1     dane2\n",
      "2      b  jeden  3.248944  0.523772\n",
      "3      b    dwa -1.021228  0.000940\n"
     ],
     "output_type":"stream"
    }
   ],
   "metadata":{
    "datalore":{
     "node_id":"b8Rk3E1Q7pCT1sUzuzlBvq",
     "type":"CODE",
     "hide_input_from_viewers":true,
     "hide_output_from_viewers":true
    }
   }
  },
  {
   "cell_type":"code",
   "source":[
    "for (k1,k2), group in df.groupby(['klucz1','klucz2']):\n",
    "    print((k1,k2))\n",
    "    print(group)"
   ],
   "execution_count":20,
   "outputs":[
    {
     "name":"stdout",
     "text":[
      "('a', 'dwa')\n",
      "  klucz1 klucz2     dane1     dane2\n",
      "1      a    dwa  0.476985  0.302614\n",
      "('a', 'jeden')\n",
      "  klucz1 klucz2     dane1     dane2\n",
      "0      a  jeden -0.539741  0.124121\n",
      "4      a  jeden -0.577087  1.343810\n",
      "('b', 'dwa')\n",
      "  klucz1 klucz2     dane1    dane2\n",
      "3      b    dwa -1.021228  0.00094\n",
      "('b', 'jeden')\n",
      "  klucz1 klucz2     dane1     dane2\n",
      "2      b  jeden  3.248944  0.523772\n"
     ],
     "output_type":"stream"
    }
   ],
   "metadata":{
    "datalore":{
     "node_id":"v3AYbhoX6maitJqgDTVXjU",
     "type":"CODE",
     "hide_input_from_viewers":true,
     "hide_output_from_viewers":true
    }
   }
  },
  {
   "cell_type":"code",
   "source":[
    "pieces = dict(list(df.groupby('klucz1')))\n",
    "pieces['b']"
   ],
   "execution_count":21,
   "outputs":[
    {
     "data":{
      "text\/html":[
       "<div>\n",
       "<style scoped>\n",
       "    .dataframe tbody tr th:only-of-type {\n",
       "        vertical-align: middle;\n",
       "    }\n",
       "\n",
       "    .dataframe tbody tr th {\n",
       "        vertical-align: top;\n",
       "    }\n",
       "\n",
       "    .dataframe thead th {\n",
       "        text-align: right;\n",
       "    }\n",
       "<\/style>\n",
       "<table border=\"1\" class=\"dataframe\">\n",
       "  <thead>\n",
       "    <tr style=\"text-align: right;\">\n",
       "      <th><\/th>\n",
       "      <th>klucz1<\/th>\n",
       "      <th>klucz2<\/th>\n",
       "      <th>dane1<\/th>\n",
       "      <th>dane2<\/th>\n",
       "    <\/tr>\n",
       "  <\/thead>\n",
       "  <tbody>\n",
       "    <tr>\n",
       "      <th>2<\/th>\n",
       "      <td>b<\/td>\n",
       "      <td>jeden<\/td>\n",
       "      <td>3.248944<\/td>\n",
       "      <td>0.523772<\/td>\n",
       "    <\/tr>\n",
       "    <tr>\n",
       "      <th>3<\/th>\n",
       "      <td>b<\/td>\n",
       "      <td>dwa<\/td>\n",
       "      <td>-1.021228<\/td>\n",
       "      <td>0.000940<\/td>\n",
       "    <\/tr>\n",
       "  <\/tbody>\n",
       "<\/table>\n",
       "<\/div>"
      ]
     },
     "metadata":{
      
     },
     "output_type":"display_data"
    }
   ],
   "metadata":{
    "datalore":{
     "node_id":"2KaRkpBBFpjvuo8I7UyM5F",
     "type":"CODE",
     "hide_input_from_viewers":true,
     "hide_output_from_viewers":true
    }
   }
  },
  {
   "cell_type":"code",
   "source":[
    "df.dtypes\n",
    "grouped = df.groupby(df.dtypes,axis=1)"
   ],
   "execution_count":23,
   "outputs":[
    
   ],
   "metadata":{
    "datalore":{
     "node_id":"h6Z8b3F0L78tLy1jjPxp8G",
     "type":"CODE",
     "hide_input_from_viewers":true,
     "hide_output_from_viewers":true
    }
   }
  },
  {
   "cell_type":"code",
   "source":[
    "for dtype,group in grouped:\n",
    "    print(dtype)\n",
    "    print(group)"
   ],
   "execution_count":24,
   "outputs":[
    {
     "name":"stdout",
     "text":[
      "float64\n",
      "      dane1     dane2\n",
      "0 -0.539741  0.124121\n",
      "1  0.476985  0.302614\n",
      "2  3.248944  0.523772\n",
      "3 -1.021228  0.000940\n",
      "4 -0.577087  1.343810\n",
      "object\n",
      "  klucz1 klucz2\n",
      "0      a  jeden\n",
      "1      a    dwa\n",
      "2      b  jeden\n",
      "3      b    dwa\n",
      "4      a  jeden\n"
     ],
     "output_type":"stream"
    }
   ],
   "metadata":{
    "datalore":{
     "node_id":"e8Mnil292JvvT4KobnSwaG",
     "type":"CODE",
     "hide_input_from_viewers":true,
     "hide_output_from_viewers":true
    }
   }
  },
  {
   "cell_type":"code",
   "source":[
    "#wybieranie kolumny lub podzbioru kolumn\n",
    "\n",
    "df.groupby(['klucz1','klucz2'])[['dane2']].mean()"
   ],
   "execution_count":25,
   "outputs":[
    {
     "data":{
      "text\/html":[
       "<div>\n",
       "<style scoped>\n",
       "    .dataframe tbody tr th:only-of-type {\n",
       "        vertical-align: middle;\n",
       "    }\n",
       "\n",
       "    .dataframe tbody tr th {\n",
       "        vertical-align: top;\n",
       "    }\n",
       "\n",
       "    .dataframe thead th {\n",
       "        text-align: right;\n",
       "    }\n",
       "<\/style>\n",
       "<table border=\"1\" class=\"dataframe\">\n",
       "  <thead>\n",
       "    <tr style=\"text-align: right;\">\n",
       "      <th><\/th>\n",
       "      <th><\/th>\n",
       "      <th>dane2<\/th>\n",
       "    <\/tr>\n",
       "    <tr>\n",
       "      <th>klucz1<\/th>\n",
       "      <th>klucz2<\/th>\n",
       "      <th><\/th>\n",
       "    <\/tr>\n",
       "  <\/thead>\n",
       "  <tbody>\n",
       "    <tr>\n",
       "      <th rowspan=\"2\" valign=\"top\">a<\/th>\n",
       "      <th>dwa<\/th>\n",
       "      <td>0.302614<\/td>\n",
       "    <\/tr>\n",
       "    <tr>\n",
       "      <th>jeden<\/th>\n",
       "      <td>0.733966<\/td>\n",
       "    <\/tr>\n",
       "    <tr>\n",
       "      <th rowspan=\"2\" valign=\"top\">b<\/th>\n",
       "      <th>dwa<\/th>\n",
       "      <td>0.000940<\/td>\n",
       "    <\/tr>\n",
       "    <tr>\n",
       "      <th>jeden<\/th>\n",
       "      <td>0.523772<\/td>\n",
       "    <\/tr>\n",
       "  <\/tbody>\n",
       "<\/table>\n",
       "<\/div>"
      ]
     },
     "metadata":{
      
     },
     "output_type":"display_data"
    }
   ],
   "metadata":{
    "datalore":{
     "node_id":"3Dyw1Nw1CxNJUlyfyBcdBK",
     "type":"CODE",
     "hide_input_from_viewers":true,
     "hide_output_from_viewers":true
    }
   }
  },
  {
   "cell_type":"code",
   "source":[
    "s_grouped = df.groupby(['klucz1','klucz2'])['dane2']\n",
    "s_grouped"
   ],
   "execution_count":26,
   "outputs":[
    {
     "data":{
      "text\/plain":[
       "<pandas.core.groupby.generic.SeriesGroupBy object at 0x7fdfabadd280>"
      ]
     },
     "metadata":{
      
     },
     "output_type":"display_data"
    }
   ],
   "metadata":{
    "datalore":{
     "node_id":"ARQ5lvNzgdlr4HDALQatkr",
     "type":"CODE",
     "hide_input_from_viewers":true,
     "hide_output_from_viewers":true
    }
   }
  },
  {
   "cell_type":"code",
   "source":[
    "s_grouped.mean()"
   ],
   "execution_count":27,
   "outputs":[
    {
     "data":{
      "text\/html":[
       "<pre>klucz1  klucz2\n",
       "a       dwa       0.302614\n",
       "        jeden     0.733966\n",
       "b       dwa       0.000940\n",
       "        jeden     0.523772\n",
       "Name: dane2, dtype: float64<\/pre>"
      ]
     },
     "metadata":{
      
     },
     "output_type":"display_data"
    }
   ],
   "metadata":{
    "datalore":{
     "node_id":"joptp5NcZCjhvOk5uka2Mq",
     "type":"CODE",
     "hide_input_from_viewers":true,
     "hide_output_from_viewers":true
    }
   }
  },
  {
   "cell_type":"code",
   "source":[
    "#grupowanie przy użyciu słowmników i serii\n",
    "\n",
    "people = pd.DataFrame(np.random.randn(5,5),\n",
    "                      columns=['a','b','c','d','e'],\n",
    "                      index=['Leon','Filip','Anna','Olga','Nadia'])\n",
    "\n",
    "people.iloc[2:3,[1,2]] = np.nan\n",
    "people"
   ],
   "execution_count":28,
   "outputs":[
    {
     "data":{
      "text\/html":[
       "<div>\n",
       "<style scoped>\n",
       "    .dataframe tbody tr th:only-of-type {\n",
       "        vertical-align: middle;\n",
       "    }\n",
       "\n",
       "    .dataframe tbody tr th {\n",
       "        vertical-align: top;\n",
       "    }\n",
       "\n",
       "    .dataframe thead th {\n",
       "        text-align: right;\n",
       "    }\n",
       "<\/style>\n",
       "<table border=\"1\" class=\"dataframe\">\n",
       "  <thead>\n",
       "    <tr style=\"text-align: right;\">\n",
       "      <th><\/th>\n",
       "      <th>a<\/th>\n",
       "      <th>b<\/th>\n",
       "      <th>c<\/th>\n",
       "      <th>d<\/th>\n",
       "      <th>e<\/th>\n",
       "    <\/tr>\n",
       "  <\/thead>\n",
       "  <tbody>\n",
       "    <tr>\n",
       "      <th>Leon<\/th>\n",
       "      <td>-0.713544<\/td>\n",
       "      <td>-0.831154<\/td>\n",
       "      <td>-2.370232<\/td>\n",
       "      <td>-1.860761<\/td>\n",
       "      <td>-0.860757<\/td>\n",
       "    <\/tr>\n",
       "    <tr>\n",
       "      <th>Filip<\/th>\n",
       "      <td>0.560145<\/td>\n",
       "      <td>-1.265934<\/td>\n",
       "      <td>0.119827<\/td>\n",
       "      <td>-1.063512<\/td>\n",
       "      <td>0.332883<\/td>\n",
       "    <\/tr>\n",
       "    <tr>\n",
       "      <th>Anna<\/th>\n",
       "      <td>-2.359419<\/td>\n",
       "      <td>NaN<\/td>\n",
       "      <td>NaN<\/td>\n",
       "      <td>-0.970736<\/td>\n",
       "      <td>-1.307030<\/td>\n",
       "    <\/tr>\n",
       "    <tr>\n",
       "      <th>Olga<\/th>\n",
       "      <td>0.286350<\/td>\n",
       "      <td>0.377984<\/td>\n",
       "      <td>-0.753887<\/td>\n",
       "      <td>0.331286<\/td>\n",
       "      <td>1.349742<\/td>\n",
       "    <\/tr>\n",
       "    <tr>\n",
       "      <th>Nadia<\/th>\n",
       "      <td>0.069877<\/td>\n",
       "      <td>0.246674<\/td>\n",
       "      <td>-0.011862<\/td>\n",
       "      <td>1.004812<\/td>\n",
       "      <td>1.327195<\/td>\n",
       "    <\/tr>\n",
       "  <\/tbody>\n",
       "<\/table>\n",
       "<\/div>"
      ]
     },
     "metadata":{
      
     },
     "output_type":"display_data"
    }
   ],
   "metadata":{
    "datalore":{
     "node_id":"lcZNUqKwJYy6kVfxfOSV6u",
     "type":"CODE",
     "hide_input_from_viewers":true,
     "hide_output_from_viewers":true
    }
   }
  },
  {
   "cell_type":"code",
   "source":[
    "mapping = {\n",
    "    'a':'czerwony',\n",
    "    'b':'czerwony',\n",
    "    'c':'niebieski',\n",
    "    'd':'niebieski',\n",
    "    'e':'czerwony',\n",
    "    'f':'pomarańczowy'\n",
    "}"
   ],
   "execution_count":29,
   "outputs":[
    
   ],
   "metadata":{
    "datalore":{
     "node_id":"eAaRppyEE4ZJTiPJNip43b",
     "type":"CODE",
     "hide_input_from_viewers":true,
     "hide_output_from_viewers":true
    }
   }
  },
  {
   "cell_type":"code",
   "source":[
    "by_column = people.groupby(mapping,axis=1)\n",
    "by_column.sum()"
   ],
   "execution_count":30,
   "outputs":[
    {
     "data":{
      "text\/html":[
       "<div>\n",
       "<style scoped>\n",
       "    .dataframe tbody tr th:only-of-type {\n",
       "        vertical-align: middle;\n",
       "    }\n",
       "\n",
       "    .dataframe tbody tr th {\n",
       "        vertical-align: top;\n",
       "    }\n",
       "\n",
       "    .dataframe thead th {\n",
       "        text-align: right;\n",
       "    }\n",
       "<\/style>\n",
       "<table border=\"1\" class=\"dataframe\">\n",
       "  <thead>\n",
       "    <tr style=\"text-align: right;\">\n",
       "      <th><\/th>\n",
       "      <th>czerwony<\/th>\n",
       "      <th>niebieski<\/th>\n",
       "    <\/tr>\n",
       "  <\/thead>\n",
       "  <tbody>\n",
       "    <tr>\n",
       "      <th>Leon<\/th>\n",
       "      <td>-2.405455<\/td>\n",
       "      <td>-4.230992<\/td>\n",
       "    <\/tr>\n",
       "    <tr>\n",
       "      <th>Filip<\/th>\n",
       "      <td>-0.372906<\/td>\n",
       "      <td>-0.943685<\/td>\n",
       "    <\/tr>\n",
       "    <tr>\n",
       "      <th>Anna<\/th>\n",
       "      <td>-3.666449<\/td>\n",
       "      <td>-0.970736<\/td>\n",
       "    <\/tr>\n",
       "    <tr>\n",
       "      <th>Olga<\/th>\n",
       "      <td>2.014076<\/td>\n",
       "      <td>-0.422601<\/td>\n",
       "    <\/tr>\n",
       "    <tr>\n",
       "      <th>Nadia<\/th>\n",
       "      <td>1.643745<\/td>\n",
       "      <td>0.992950<\/td>\n",
       "    <\/tr>\n",
       "  <\/tbody>\n",
       "<\/table>\n",
       "<\/div>"
      ]
     },
     "metadata":{
      
     },
     "output_type":"display_data"
    }
   ],
   "metadata":{
    "datalore":{
     "node_id":"1tZm32yAHtKvudL8XYiBqS",
     "type":"CODE",
     "hide_input_from_viewers":true,
     "hide_output_from_viewers":true
    }
   }
  },
  {
   "cell_type":"code",
   "source":[
    "map_series = pd.Series(mapping)\n",
    "map_series"
   ],
   "execution_count":31,
   "outputs":[
    {
     "data":{
      "text\/html":[
       "<pre>a        czerwony\n",
       "b        czerwony\n",
       "c       niebieski\n",
       "d       niebieski\n",
       "e        czerwony\n",
       "f    pomarańczowy\n",
       "dtype: object<\/pre>"
      ]
     },
     "metadata":{
      
     },
     "output_type":"display_data"
    }
   ],
   "metadata":{
    "datalore":{
     "node_id":"Lq1Jg2tFCZfI2slri42eOL",
     "type":"CODE",
     "hide_input_from_viewers":true,
     "hide_output_from_viewers":true
    }
   }
  },
  {
   "cell_type":"code",
   "source":[
    "people.groupby(map_series,axis=1).count()"
   ],
   "execution_count":32,
   "outputs":[
    {
     "data":{
      "text\/html":[
       "<div>\n",
       "<style scoped>\n",
       "    .dataframe tbody tr th:only-of-type {\n",
       "        vertical-align: middle;\n",
       "    }\n",
       "\n",
       "    .dataframe tbody tr th {\n",
       "        vertical-align: top;\n",
       "    }\n",
       "\n",
       "    .dataframe thead th {\n",
       "        text-align: right;\n",
       "    }\n",
       "<\/style>\n",
       "<table border=\"1\" class=\"dataframe\">\n",
       "  <thead>\n",
       "    <tr style=\"text-align: right;\">\n",
       "      <th><\/th>\n",
       "      <th>czerwony<\/th>\n",
       "      <th>niebieski<\/th>\n",
       "    <\/tr>\n",
       "  <\/thead>\n",
       "  <tbody>\n",
       "    <tr>\n",
       "      <th>Leon<\/th>\n",
       "      <td>3<\/td>\n",
       "      <td>2<\/td>\n",
       "    <\/tr>\n",
       "    <tr>\n",
       "      <th>Filip<\/th>\n",
       "      <td>3<\/td>\n",
       "      <td>2<\/td>\n",
       "    <\/tr>\n",
       "    <tr>\n",
       "      <th>Anna<\/th>\n",
       "      <td>2<\/td>\n",
       "      <td>1<\/td>\n",
       "    <\/tr>\n",
       "    <tr>\n",
       "      <th>Olga<\/th>\n",
       "      <td>3<\/td>\n",
       "      <td>2<\/td>\n",
       "    <\/tr>\n",
       "    <tr>\n",
       "      <th>Nadia<\/th>\n",
       "      <td>3<\/td>\n",
       "      <td>2<\/td>\n",
       "    <\/tr>\n",
       "  <\/tbody>\n",
       "<\/table>\n",
       "<\/div>"
      ]
     },
     "metadata":{
      
     },
     "output_type":"display_data"
    }
   ],
   "metadata":{
    "datalore":{
     "node_id":"4irfLiHKhcngzztCGjHEo3",
     "type":"CODE",
     "hide_input_from_viewers":true,
     "hide_output_from_viewers":true
    }
   }
  },
  {
   "cell_type":"code",
   "source":[
    "#grupowanie przy użyciu poziomu indeksu\n",
    "\n",
    "columns = pd.MultiIndex.from_arrays([['US','US','US','EU','EU'],\n",
    "                                     [1,3,5,1,3]],\n",
    "                                    names=['miasto','tenor'])\n",
    "\n",
    "hier_df = pd.DataFrame(np.random.randn(4,5),columns=columns)\n",
    "hier_df"
   ],
   "execution_count":33,
   "outputs":[
    {
     "data":{
      "text\/html":[
       "<div>\n",
       "<style scoped>\n",
       "    .dataframe tbody tr th:only-of-type {\n",
       "        vertical-align: middle;\n",
       "    }\n",
       "\n",
       "    .dataframe tbody tr th {\n",
       "        vertical-align: top;\n",
       "    }\n",
       "\n",
       "    .dataframe thead tr th {\n",
       "        text-align: left;\n",
       "    }\n",
       "<\/style>\n",
       "<table border=\"1\" class=\"dataframe\">\n",
       "  <thead>\n",
       "    <tr>\n",
       "      <th>miasto<\/th>\n",
       "      <th colspan=\"3\" halign=\"left\">US<\/th>\n",
       "      <th colspan=\"2\" halign=\"left\">EU<\/th>\n",
       "    <\/tr>\n",
       "    <tr>\n",
       "      <th>tenor<\/th>\n",
       "      <th>1<\/th>\n",
       "      <th>3<\/th>\n",
       "      <th>5<\/th>\n",
       "      <th>1<\/th>\n",
       "      <th>3<\/th>\n",
       "    <\/tr>\n",
       "  <\/thead>\n",
       "  <tbody>\n",
       "    <tr>\n",
       "      <th>0<\/th>\n",
       "      <td>-0.919262<\/td>\n",
       "      <td>-1.549106<\/td>\n",
       "      <td>0.022185<\/td>\n",
       "      <td>0.758363<\/td>\n",
       "      <td>-0.660524<\/td>\n",
       "    <\/tr>\n",
       "    <tr>\n",
       "      <th>1<\/th>\n",
       "      <td>0.862580<\/td>\n",
       "      <td>-0.010032<\/td>\n",
       "      <td>0.050009<\/td>\n",
       "      <td>0.670216<\/td>\n",
       "      <td>0.852965<\/td>\n",
       "    <\/tr>\n",
       "    <tr>\n",
       "      <th>2<\/th>\n",
       "      <td>-0.955869<\/td>\n",
       "      <td>-0.023493<\/td>\n",
       "      <td>-2.304234<\/td>\n",
       "      <td>-0.652469<\/td>\n",
       "      <td>-1.218302<\/td>\n",
       "    <\/tr>\n",
       "    <tr>\n",
       "      <th>3<\/th>\n",
       "      <td>-1.332610<\/td>\n",
       "      <td>1.074623<\/td>\n",
       "      <td>0.723642<\/td>\n",
       "      <td>0.690002<\/td>\n",
       "      <td>1.001543<\/td>\n",
       "    <\/tr>\n",
       "  <\/tbody>\n",
       "<\/table>\n",
       "<\/div>"
      ]
     },
     "metadata":{
      
     },
     "output_type":"display_data"
    }
   ],
   "metadata":{
    "datalore":{
     "node_id":"2bn3OeRRbIW4FLc9mnCSUf",
     "type":"CODE",
     "hide_input_from_viewers":true,
     "hide_output_from_viewers":true
    }
   }
  },
  {
   "cell_type":"code",
   "source":[
    "hier_df.groupby(level='miasto',axis=1).count()"
   ],
   "execution_count":34,
   "outputs":[
    {
     "data":{
      "text\/html":[
       "<div>\n",
       "<style scoped>\n",
       "    .dataframe tbody tr th:only-of-type {\n",
       "        vertical-align: middle;\n",
       "    }\n",
       "\n",
       "    .dataframe tbody tr th {\n",
       "        vertical-align: top;\n",
       "    }\n",
       "\n",
       "    .dataframe thead th {\n",
       "        text-align: right;\n",
       "    }\n",
       "<\/style>\n",
       "<table border=\"1\" class=\"dataframe\">\n",
       "  <thead>\n",
       "    <tr style=\"text-align: right;\">\n",
       "      <th>miasto<\/th>\n",
       "      <th>EU<\/th>\n",
       "      <th>US<\/th>\n",
       "    <\/tr>\n",
       "  <\/thead>\n",
       "  <tbody>\n",
       "    <tr>\n",
       "      <th>0<\/th>\n",
       "      <td>2<\/td>\n",
       "      <td>3<\/td>\n",
       "    <\/tr>\n",
       "    <tr>\n",
       "      <th>1<\/th>\n",
       "      <td>2<\/td>\n",
       "      <td>3<\/td>\n",
       "    <\/tr>\n",
       "    <tr>\n",
       "      <th>2<\/th>\n",
       "      <td>2<\/td>\n",
       "      <td>3<\/td>\n",
       "    <\/tr>\n",
       "    <tr>\n",
       "      <th>3<\/th>\n",
       "      <td>2<\/td>\n",
       "      <td>3<\/td>\n",
       "    <\/tr>\n",
       "  <\/tbody>\n",
       "<\/table>\n",
       "<\/div>"
      ]
     },
     "metadata":{
      
     },
     "output_type":"display_data"
    }
   ],
   "metadata":{
    "datalore":{
     "node_id":"2NOJ6uRGg067oo2tbH9hw5",
     "type":"CODE",
     "hide_input_from_viewers":true,
     "hide_output_from_viewers":true
    }
   }
  },
  {
   "cell_type":"code",
   "source":[
    "#grupowanie przy użyciu funkcji\n",
    "\n",
    "people.groupby(len).sum()"
   ],
   "execution_count":35,
   "outputs":[
    {
     "data":{
      "text\/html":[
       "<div>\n",
       "<style scoped>\n",
       "    .dataframe tbody tr th:only-of-type {\n",
       "        vertical-align: middle;\n",
       "    }\n",
       "\n",
       "    .dataframe tbody tr th {\n",
       "        vertical-align: top;\n",
       "    }\n",
       "\n",
       "    .dataframe thead th {\n",
       "        text-align: right;\n",
       "    }\n",
       "<\/style>\n",
       "<table border=\"1\" class=\"dataframe\">\n",
       "  <thead>\n",
       "    <tr style=\"text-align: right;\">\n",
       "      <th><\/th>\n",
       "      <th>a<\/th>\n",
       "      <th>b<\/th>\n",
       "      <th>c<\/th>\n",
       "      <th>d<\/th>\n",
       "      <th>e<\/th>\n",
       "    <\/tr>\n",
       "  <\/thead>\n",
       "  <tbody>\n",
       "    <tr>\n",
       "      <th>4<\/th>\n",
       "      <td>-2.786613<\/td>\n",
       "      <td>-0.453169<\/td>\n",
       "      <td>-3.124118<\/td>\n",
       "      <td>-2.500211<\/td>\n",
       "      <td>-0.818045<\/td>\n",
       "    <\/tr>\n",
       "    <tr>\n",
       "      <th>5<\/th>\n",
       "      <td>0.630022<\/td>\n",
       "      <td>-1.019260<\/td>\n",
       "      <td>0.107966<\/td>\n",
       "      <td>-0.058701<\/td>\n",
       "      <td>1.660077<\/td>\n",
       "    <\/tr>\n",
       "  <\/tbody>\n",
       "<\/table>\n",
       "<\/div>"
      ]
     },
     "metadata":{
      
     },
     "output_type":"display_data"
    }
   ],
   "metadata":{
    "datalore":{
     "node_id":"4CgyZtcbwoBIjzlXXMKp6i",
     "type":"CODE",
     "hide_input_from_viewers":true,
     "hide_output_from_viewers":true
    }
   }
  },
  {
   "cell_type":"code",
   "source":[
    "key_list = ['jeden','jeden','jeden','dwa','dwa']\n",
    "w = people.groupby([len,key_list]).min()\n",
    "print(w)"
   ],
   "execution_count":37,
   "outputs":[
    {
     "name":"stdout",
     "text":[
      "                a         b         c         d         e\n",
      "4 dwa    0.286350  0.377984 -0.753887  0.331286  1.349742\n",
      "  jeden -2.359419 -0.831154 -2.370232 -1.860761 -1.307030\n",
      "5 dwa    0.069877  0.246674 -0.011862  1.004812  1.327195\n",
      "  jeden  0.560145 -1.265934  0.119827 -1.063512  0.332883\n"
     ],
     "output_type":"stream"
    }
   ],
   "metadata":{
    "datalore":{
     "node_id":"B7xByTSD617bRSQaH40eOr",
     "type":"CODE",
     "hide_input_from_viewers":true,
     "hide_output_from_viewers":true
    }
   }
  }
 ],
 "metadata":{
  "kernelspec":{
   "display_name":"Python",
   "language":"python",
   "name":"python"
  },
  "datalore":{
   "computation_mode":"JUPYTER",
   "package_manager":"pip",
   "base_environment":"default",
   "packages":[
    
   ],
   "report_row_ids":[
    
   ],
   "version":3
  }
 },
 "nbformat":4,
 "nbformat_minor":4
}