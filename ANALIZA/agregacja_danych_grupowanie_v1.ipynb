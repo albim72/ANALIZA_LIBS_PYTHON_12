{
 "cells":[
  {
   "cell_type":"code",
   "source":[
    "import numpy as np\n",
    "import pandas as pd\n",
    "PREVIOUS_MAX_ROWS = pd.options.display.max_rows\n",
    "pd.options.display.max_rows = 20\n",
    "np.random.seed(12345)\n",
    "import matplotlib.pyplot as plt\n",
    "%matplotlib inline\n",
    "plt.rc('figure',figsize=(10,6))\n",
    "np.set_printoptions(precision=4,suppress=True)"
   ],
   "execution_count":2,
   "outputs":[
    
   ],
   "metadata":{
    "datalore":{
     "node_id":"bRkXr8KlOjvDz1g2bXFsNS",
     "type":"CODE",
     "hide_input_from_viewers":true,
     "hide_output_from_viewers":true
    }
   }
  },
  {
   "cell_type":"code",
   "source":[
    "#mechanika interfejsu grupowania\n",
    "df = pd.DataFrame({\n",
    "    'klucz1':['a','a','b','b','a'],\n",
    "    'klucz2':['jeden','dwa','jeden','dwa','jeden'],\n",
    "    'dane1':np.random.randn(5),\n",
    "    'dane2':np.random.randn(5)\n",
    "})\n",
    "\n",
    "df"
   ],
   "execution_count":5,
   "outputs":[
    {
     "data":{
      "text\/html":[
       "<div>\n",
       "<style scoped>\n",
       "    .dataframe tbody tr th:only-of-type {\n",
       "        vertical-align: middle;\n",
       "    }\n",
       "\n",
       "    .dataframe tbody tr th {\n",
       "        vertical-align: top;\n",
       "    }\n",
       "\n",
       "    .dataframe thead th {\n",
       "        text-align: right;\n",
       "    }\n",
       "<\/style>\n",
       "<table border=\"1\" class=\"dataframe\">\n",
       "  <thead>\n",
       "    <tr style=\"text-align: right;\">\n",
       "      <th><\/th>\n",
       "      <th>klucz1<\/th>\n",
       "      <th>klucz2<\/th>\n",
       "      <th>dane1<\/th>\n",
       "      <th>dane2<\/th>\n",
       "    <\/tr>\n",
       "  <\/thead>\n",
       "  <tbody>\n",
       "    <tr>\n",
       "      <th>0<\/th>\n",
       "      <td>a<\/td>\n",
       "      <td>jeden<\/td>\n",
       "      <td>-0.539741<\/td>\n",
       "      <td>0.124121<\/td>\n",
       "    <\/tr>\n",
       "    <tr>\n",
       "      <th>1<\/th>\n",
       "      <td>a<\/td>\n",
       "      <td>dwa<\/td>\n",
       "      <td>0.476985<\/td>\n",
       "      <td>0.302614<\/td>\n",
       "    <\/tr>\n",
       "    <tr>\n",
       "      <th>2<\/th>\n",
       "      <td>b<\/td>\n",
       "      <td>jeden<\/td>\n",
       "      <td>3.248944<\/td>\n",
       "      <td>0.523772<\/td>\n",
       "    <\/tr>\n",
       "    <tr>\n",
       "      <th>3<\/th>\n",
       "      <td>b<\/td>\n",
       "      <td>dwa<\/td>\n",
       "      <td>-1.021228<\/td>\n",
       "      <td>0.000940<\/td>\n",
       "    <\/tr>\n",
       "    <tr>\n",
       "      <th>4<\/th>\n",
       "      <td>a<\/td>\n",
       "      <td>jeden<\/td>\n",
       "      <td>-0.577087<\/td>\n",
       "      <td>1.343810<\/td>\n",
       "    <\/tr>\n",
       "  <\/tbody>\n",
       "<\/table>\n",
       "<\/div>"
      ]
     },
     "metadata":{
      
     },
     "output_type":"display_data"
    }
   ],
   "metadata":{
    "datalore":{
     "node_id":"6llX1gala0CjPmp7XRnvzW",
     "type":"CODE",
     "hide_input_from_viewers":true,
     "hide_output_from_viewers":true
    }
   }
  },
  {
   "cell_type":"code",
   "source":[
    "grouped = df['dane1'].groupby(df['klucz1'])\n",
    "grouped"
   ],
   "execution_count":6,
   "outputs":[
    {
     "data":{
      "text\/plain":[
       "<pandas.core.groupby.generic.SeriesGroupBy object at 0x7fdfabf4f700>"
      ]
     },
     "metadata":{
      
     },
     "output_type":"display_data"
    }
   ],
   "metadata":{
    "datalore":{
     "node_id":"WYE0OGlfHAVC9mjfqL4F22",
     "type":"CODE",
     "hide_input_from_viewers":true,
     "hide_output_from_viewers":true
    }
   }
  },
  {
   "cell_type":"code",
   "source":[
    "grouped.mean()"
   ],
   "execution_count":7,
   "outputs":[
    {
     "data":{
      "text\/html":[
       "<pre>klucz1\n",
       "a   -0.213281\n",
       "b    1.113858\n",
       "Name: dane1, dtype: float64<\/pre>"
      ]
     },
     "metadata":{
      
     },
     "output_type":"display_data"
    }
   ],
   "metadata":{
    "datalore":{
     "node_id":"LbIFEGzYMLtGgQgFZ2rcLL",
     "type":"CODE",
     "hide_input_from_viewers":true,
     "hide_output_from_viewers":true
    }
   }
  },
  {
   "cell_type":"code",
   "source":[
    "means = df['dane1'].groupby([df['klucz1'],df['klucz2']]).mean()\n",
    "\n",
    "means"
   ],
   "execution_count":8,
   "outputs":[
    {
     "data":{
      "text\/html":[
       "<pre>klucz1  klucz2\n",
       "a       dwa       0.476985\n",
       "        jeden    -0.558414\n",
       "b       dwa      -1.021228\n",
       "        jeden     3.248944\n",
       "Name: dane1, dtype: float64<\/pre>"
      ]
     },
     "metadata":{
      
     },
     "output_type":"display_data"
    }
   ],
   "metadata":{
    "datalore":{
     "node_id":"oXOwYA8Trq2ZN6H2hBuRfN",
     "type":"CODE",
     "hide_input_from_viewers":true,
     "hide_output_from_viewers":true
    }
   }
  },
  {
   "cell_type":"code",
   "source":[
    "means.unstack()"
   ],
   "execution_count":9,
   "outputs":[
    {
     "data":{
      "text\/html":[
       "<div>\n",
       "<style scoped>\n",
       "    .dataframe tbody tr th:only-of-type {\n",
       "        vertical-align: middle;\n",
       "    }\n",
       "\n",
       "    .dataframe tbody tr th {\n",
       "        vertical-align: top;\n",
       "    }\n",
       "\n",
       "    .dataframe thead th {\n",
       "        text-align: right;\n",
       "    }\n",
       "<\/style>\n",
       "<table border=\"1\" class=\"dataframe\">\n",
       "  <thead>\n",
       "    <tr style=\"text-align: right;\">\n",
       "      <th>klucz2<\/th>\n",
       "      <th>dwa<\/th>\n",
       "      <th>jeden<\/th>\n",
       "    <\/tr>\n",
       "    <tr>\n",
       "      <th>klucz1<\/th>\n",
       "      <th><\/th>\n",
       "      <th><\/th>\n",
       "    <\/tr>\n",
       "  <\/thead>\n",
       "  <tbody>\n",
       "    <tr>\n",
       "      <th>a<\/th>\n",
       "      <td>0.476985<\/td>\n",
       "      <td>-0.558414<\/td>\n",
       "    <\/tr>\n",
       "    <tr>\n",
       "      <th>b<\/th>\n",
       "      <td>-1.021228<\/td>\n",
       "      <td>3.248944<\/td>\n",
       "    <\/tr>\n",
       "  <\/tbody>\n",
       "<\/table>\n",
       "<\/div>"
      ]
     },
     "metadata":{
      
     },
     "output_type":"display_data"
    }
   ],
   "metadata":{
    "datalore":{
     "node_id":"p7GAgCqyqe87ovDSNmUz18",
     "type":"CODE",
     "hide_input_from_viewers":true,
     "hide_output_from_viewers":true
    }
   }
  },
  {
   "cell_type":"code",
   "source":[
    "woj = np.array(['mazowieckie','małopolskie','lubelskie','pomorskie','śląskie'])\n",
    "lata = np.array([2018,2018,2020,2018,2020])\n",
    "df['dane1'].groupby([woj,lata]).mean()"
   ],
   "execution_count":13,
   "outputs":[
    {
     "data":{
      "text\/html":[
       "<pre>lubelskie    2020    3.248944\n",
       "mazowieckie  2018   -0.539741\n",
       "małopolskie  2018    0.476985\n",
       "pomorskie    2018   -1.021228\n",
       "śląskie      2020   -0.577087\n",
       "Name: dane1, dtype: float64<\/pre>"
      ]
     },
     "metadata":{
      
     },
     "output_type":"display_data"
    }
   ],
   "metadata":{
    "datalore":{
     "node_id":"SGozNosfLsQGR3gISZAvLA",
     "type":"CODE",
     "hide_input_from_viewers":true,
     "hide_output_from_viewers":true
    }
   }
  },
  {
   "cell_type":"code",
   "source":[
    "df.groupby('klucz1').mean()"
   ],
   "execution_count":14,
   "outputs":[
    {
     "name":"stderr",
     "text":[
      "<ipython-input-14-1f540c8b2067>:1: FutureWarning: The default value of numeric_only in DataFrameGroupBy.mean is deprecated. In a future version, numeric_only will default to False. Either specify numeric_only or select only columns which should be valid for the function.\n",
      "  df.groupby('klucz1').mean()\n"
     ],
     "output_type":"stream"
    },
    {
     "data":{
      "text\/html":[
       "<div>\n",
       "<style scoped>\n",
       "    .dataframe tbody tr th:only-of-type {\n",
       "        vertical-align: middle;\n",
       "    }\n",
       "\n",
       "    .dataframe tbody tr th {\n",
       "        vertical-align: top;\n",
       "    }\n",
       "\n",
       "    .dataframe thead th {\n",
       "        text-align: right;\n",
       "    }\n",
       "<\/style>\n",
       "<table border=\"1\" class=\"dataframe\">\n",
       "  <thead>\n",
       "    <tr style=\"text-align: right;\">\n",
       "      <th><\/th>\n",
       "      <th>dane1<\/th>\n",
       "      <th>dane2<\/th>\n",
       "    <\/tr>\n",
       "    <tr>\n",
       "      <th>klucz1<\/th>\n",
       "      <th><\/th>\n",
       "      <th><\/th>\n",
       "    <\/tr>\n",
       "  <\/thead>\n",
       "  <tbody>\n",
       "    <tr>\n",
       "      <th>a<\/th>\n",
       "      <td>-0.213281<\/td>\n",
       "      <td>0.590182<\/td>\n",
       "    <\/tr>\n",
       "    <tr>\n",
       "      <th>b<\/th>\n",
       "      <td>1.113858<\/td>\n",
       "      <td>0.262356<\/td>\n",
       "    <\/tr>\n",
       "  <\/tbody>\n",
       "<\/table>\n",
       "<\/div>"
      ]
     },
     "metadata":{
      
     },
     "output_type":"display_data"
    }
   ],
   "metadata":{
    "datalore":{
     "node_id":"8Gnw4JQwV8wgg0YOaCBu63",
     "type":"CODE",
     "hide_input_from_viewers":true,
     "hide_output_from_viewers":true
    }
   }
  },
  {
   "cell_type":"code",
   "source":[
    "df.groupby(['klucz1','klucz2']).mean()"
   ],
   "execution_count":15,
   "outputs":[
    {
     "data":{
      "text\/html":[
       "<div>\n",
       "<style scoped>\n",
       "    .dataframe tbody tr th:only-of-type {\n",
       "        vertical-align: middle;\n",
       "    }\n",
       "\n",
       "    .dataframe tbody tr th {\n",
       "        vertical-align: top;\n",
       "    }\n",
       "\n",
       "    .dataframe thead th {\n",
       "        text-align: right;\n",
       "    }\n",
       "<\/style>\n",
       "<table border=\"1\" class=\"dataframe\">\n",
       "  <thead>\n",
       "    <tr style=\"text-align: right;\">\n",
       "      <th><\/th>\n",
       "      <th><\/th>\n",
       "      <th>dane1<\/th>\n",
       "      <th>dane2<\/th>\n",
       "    <\/tr>\n",
       "    <tr>\n",
       "      <th>klucz1<\/th>\n",
       "      <th>klucz2<\/th>\n",
       "      <th><\/th>\n",
       "      <th><\/th>\n",
       "    <\/tr>\n",
       "  <\/thead>\n",
       "  <tbody>\n",
       "    <tr>\n",
       "      <th rowspan=\"2\" valign=\"top\">a<\/th>\n",
       "      <th>dwa<\/th>\n",
       "      <td>0.476985<\/td>\n",
       "      <td>0.302614<\/td>\n",
       "    <\/tr>\n",
       "    <tr>\n",
       "      <th>jeden<\/th>\n",
       "      <td>-0.558414<\/td>\n",
       "      <td>0.733966<\/td>\n",
       "    <\/tr>\n",
       "    <tr>\n",
       "      <th rowspan=\"2\" valign=\"top\">b<\/th>\n",
       "      <th>dwa<\/th>\n",
       "      <td>-1.021228<\/td>\n",
       "      <td>0.000940<\/td>\n",
       "    <\/tr>\n",
       "    <tr>\n",
       "      <th>jeden<\/th>\n",
       "      <td>3.248944<\/td>\n",
       "      <td>0.523772<\/td>\n",
       "    <\/tr>\n",
       "  <\/tbody>\n",
       "<\/table>\n",
       "<\/div>"
      ]
     },
     "metadata":{
      
     },
     "output_type":"display_data"
    }
   ],
   "metadata":{
    "datalore":{
     "node_id":"JAkcmEGhXdXZecJU9sjmCg",
     "type":"CODE",
     "hide_input_from_viewers":true,
     "hide_output_from_viewers":true
    }
   }
  },
  {
   "cell_type":"code",
   "source":[
    "df.groupby(['klucz1','klucz2']).size()"
   ],
   "execution_count":16,
   "outputs":[
    {
     "data":{
      "text\/html":[
       "<pre>klucz1  klucz2\n",
       "a       dwa       1\n",
       "        jeden     2\n",
       "b       dwa       1\n",
       "        jeden     1\n",
       "dtype: int64<\/pre>"
      ]
     },
     "metadata":{
      
     },
     "output_type":"display_data"
    }
   ],
   "metadata":{
    "datalore":{
     "node_id":"f2uvpWydSv6bJBZzYku2Z4",
     "type":"CODE",
     "hide_input_from_viewers":true,
     "hide_output_from_viewers":true
    }
   }
  },
  {
   "cell_type":"code",
   "source":[
    "df['dane1'].groupby([woj]).mean()"
   ],
   "execution_count":17,
   "outputs":[
    {
     "data":{
      "text\/html":[
       "<pre>lubelskie      3.248944\n",
       "mazowieckie   -0.539741\n",
       "małopolskie    0.476985\n",
       "pomorskie     -1.021228\n",
       "śląskie       -0.577087\n",
       "Name: dane1, dtype: float64<\/pre>"
      ]
     },
     "metadata":{
      
     },
     "output_type":"display_data"
    }
   ],
   "metadata":{
    "datalore":{
     "node_id":"M9HHPzsTeZ7gfO00IOYKb4",
     "type":"CODE",
     "hide_input_from_viewers":true,
     "hide_output_from_viewers":true
    }
   }
  },
  {
   "cell_type":"code",
   "source":[
    "df['dane1'].groupby([lata]).mean()"
   ],
   "execution_count":18,
   "outputs":[
    {
     "data":{
      "text\/html":[
       "<pre>2018   -0.361328\n",
       "2020    1.335928\n",
       "Name: dane1, dtype: float64<\/pre>"
      ]
     },
     "metadata":{
      
     },
     "output_type":"display_data"
    }
   ],
   "metadata":{
    "datalore":{
     "node_id":"L1ugc35isBeWuNiCf3Qhcp",
     "type":"CODE",
     "hide_input_from_viewers":true,
     "hide_output_from_viewers":true
    }
   }
  }
 ],
 "metadata":{
  "kernelspec":{
   "display_name":"Python",
   "language":"python",
   "name":"python"
  },
  "datalore":{
   "computation_mode":"JUPYTER",
   "package_manager":"pip",
   "base_environment":"default",
   "packages":[
    
   ],
   "report_row_ids":[
    
   ],
   "version":3
  }
 },
 "nbformat":4,
 "nbformat_minor":4
}