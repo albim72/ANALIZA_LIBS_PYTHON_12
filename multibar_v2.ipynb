{
 "cells":[
  {
   "cell_type":"code",
   "source":[
    "import numpy as np\n",
    "import matplotlib.pyplot as plt\n",
    "import matplotlib as multiplier\n",
    "from cycler import cycler                                                               "
   ],
   "execution_count":6,
   "outputs":[
    
   ],
   "metadata":{
    "datalore":{
     "node_id":"KRRnD3r90DxT0xseTLrasb",
     "type":"CODE",
     "hide_input_from_viewers":true,
     "hide_output_from_viewers":true
    }
   }
  },
  {
   "cell_type":"code",
   "source":[
    "osoby = (\"Anna\",\"Piotr\",\"Olga\",\"Roman\")\n",
    "informacje = {\n",
    "    'wiek':(34,56,23,45),\n",
    "    'waga':(56.8,89.6,60.3,103.6),\n",
    "    'wzrost':(162,172,170,189)\n",
    "}"
   ],
   "execution_count":2,
   "outputs":[
    
   ],
   "metadata":{
    "datalore":{
     "node_id":"FBZGVvoZC50RaMuPjm4y2b",
     "type":"CODE",
     "hide_input_from_viewers":true,
     "hide_output_from_viewers":true
    }
   }
  },
  {
   "cell_type":"code",
   "source":[
    "x = np.arange(len(osoby))\n",
    "width = 0.25\n",
    "multiplier = 0\n",
    "\n",
    "fig,ax = plt.subplots(constrained_layout=True)\n",
    "for attribute,mesurement in informacje.items():\n",
    "    offset = width*multiplier\n",
    "    rects = ax.bar(x+offset,mesurement,width,label=attribute)\n",
    "    ax.bar_label(rects,padding=5)\n",
    "    multiplier += 1\n",
    "\n",
    "ax.set_ylabel('cecha')\n",
    "ax.set_title(\"wybrane informacje na temat osób...\")\n",
    "ax.set_xticks(x+width,osoby)\n",
    "ax.legend(loc='upper left',ncols=3)\n",
    "ax.set_ylim(0,200)\n",
    "plt.show()"
   ],
   "execution_count":4,
   "outputs":[
    {
     "data":{
      "image\/png":"[encoded data removed]"
     },
     "metadata":{
      "image\/png":{
       
      }
     },
     "output_type":"display_data"
    }
   ],
   "metadata":{
    "datalore":{
     "node_id":"t8OrC3FJXf06jP0gbijjIK",
     "type":"CODE",
     "hide_input_from_viewers":true,
     "hide_output_from_viewers":true
    }
   }
  },
  {
   "cell_type":"code",
   "source":[
    "#przygotowanie danych\n",
    "cases = [\n",
    "    None,\n",
    "    8,\n",
    "    (30,8),\n",
    "    [16,24,30],\n",
    "    [0,-1],\n",
    "    slice(200,200,3),\n",
    "    0.1,\n",
    "    0.3,\n",
    "    (0.0,0.1),\n",
    "    (0.45,0.1)\n",
    "]\n",
    "\n",
    "colors =[\n",
    "    '#1f77b4',\n",
    "    '#ff7f0e',\n",
    "    '#2ca02c',\n",
    "    '#d62728',\n",
    "    '#9467bd',\n",
    "    '#8c564b',\n",
    "    '#e377c2',\n",
    "    '#7f7f7f',\n",
    "    '#bcbd22',\n",
    "    '#17becf',\n",
    "]"
   ],
   "execution_count":null,
   "outputs":[
    
   ],
   "metadata":{
    "datalore":{
     "node_id":"LKPyGacNu68Yyr5eX7J4Eq",
     "type":"CODE",
     "hide_input_from_viewers":true,
     "hide_output_from_viewers":true
    }
   }
  }
 ],
 "metadata":{
  "kernelspec":{
   "display_name":"Python",
   "language":"python",
   "name":"python"
  },
  "datalore":{
   "computation_mode":"JUPYTER",
   "package_manager":"pip",
   "base_environment":"default",
   "packages":[
    
   ],
   "report_row_ids":[
    
   ],
   "version":3
  }
 },
 "nbformat":4,
 "nbformat_minor":4
}