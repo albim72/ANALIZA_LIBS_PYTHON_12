{
 "cells":[
  {
   "cell_type":"markdown",
   "source":[
    "To jest pierwszy notebook w temacie: <span style=\"color:red;font-size:16pt;font-weight:bold;\">biblioteka Pandas<\/span>\n",
    "<p><img src=\"supernova.jpg\" width=300><\/p>"
   ],
   "attachments":{
    
   },
   "metadata":{
    "datalore":{
     "node_id":"jOsN3RFcFIdqycQQNq0Q2D",
     "type":"MD",
     "hide_input_from_viewers":true,
     "hide_output_from_viewers":true
    }
   }
  },
  {
   "cell_type":"code",
   "source":[
    "import numpy as np"
   ],
   "execution_count":1,
   "outputs":[
    
   ],
   "metadata":{
    "datalore":{
     "node_id":"xOTkzebBo9r8pWoyRswVlc",
     "type":"CODE",
     "hide_input_from_viewers":true,
     "hide_output_from_viewers":true
    }
   }
  },
  {
   "cell_type":"code",
   "source":[
    "np.zeros(7)"
   ],
   "execution_count":2,
   "outputs":[
    {
     "data":{
      "text\/html":[
       "<pre>array([0., 0., 0., 0., 0., 0., 0.])<\/pre>"
      ]
     },
     "metadata":{
      
     },
     "output_type":"display_data"
    }
   ],
   "metadata":{
    "datalore":{
     "node_id":"N8BIrIjr9OgsCIv8zhh3EO",
     "type":"CODE",
     "hide_input_from_viewers":true,
     "hide_output_from_viewers":true
    }
   }
  },
  {
   "cell_type":"code",
   "source":[
    "print(np.ones(10))"
   ],
   "execution_count":3,
   "outputs":[
    {
     "name":"stdout",
     "text":[
      "[1. 1. 1. 1. 1. 1. 1. 1. 1. 1.]\n"
     ],
     "output_type":"stream"
    }
   ],
   "metadata":{
    "datalore":{
     "node_id":"eBVIODRFSZ5jddzzUyuTGN",
     "type":"CODE",
     "hide_input_from_viewers":true,
     "hide_output_from_viewers":true
    }
   }
  },
  {
   "cell_type":"code",
   "source":[
    "np.empty(10)"
   ],
   "execution_count":4,
   "outputs":[
    {
     "data":{
      "text\/html":[
       "<pre>array([1., 1., 1., 1., 1., 1., 1., 1., 1., 1.])<\/pre>"
      ]
     },
     "metadata":{
      
     },
     "output_type":"display_data"
    }
   ],
   "metadata":{
    "datalore":{
     "node_id":"lMdAvNbE9Pr0qZbj5LOfaE",
     "type":"CODE",
     "hide_input_from_viewers":true,
     "hide_output_from_viewers":true
    }
   }
  },
  {
   "cell_type":"code",
   "source":[
    "u = np.arange(1,77,3)\n",
    "u"
   ],
   "execution_count":5,
   "outputs":[
    {
     "data":{
      "text\/html":[
       "<pre>array([ 1,  4,  7, 10, 13, 16, 19, 22, 25, 28, 31, 34, 37, 40, 43, 46, 49,\n",
       "       52, 55, 58, 61, 64, 67, 70, 73, 76])<\/pre>"
      ]
     },
     "metadata":{
      
     },
     "output_type":"display_data"
    }
   ],
   "metadata":{
    "datalore":{
     "node_id":"mbtmd0USOcsC0MJPniLy7U",
     "type":"CODE",
     "hide_input_from_viewers":true,
     "hide_output_from_viewers":true
    }
   }
  },
  {
   "cell_type":"code",
   "source":[
    "zlista = [4,7,5,8,64,25,6,8,5,78,5545,6]\n",
    "print(zlista)\n",
    "print(type(zlista))"
   ],
   "execution_count":6,
   "outputs":[
    {
     "name":"stdout",
     "text":[
      "[4, 7, 5, 8, 64, 25, 6, 8, 5, 78, 5545, 6]\n",
      "<class 'list'>\n"
     ],
     "output_type":"stream"
    }
   ],
   "metadata":{
    "datalore":{
     "node_id":"HbuXYZT7pTIR8mW0bsWyQr",
     "type":"CODE",
     "hide_input_from_viewers":true,
     "hide_output_from_viewers":true
    }
   }
  },
  {
   "cell_type":"code",
   "source":[
    "k=np.linspace(0,10,num=5)\n",
    "k"
   ],
   "execution_count":7,
   "outputs":[
    {
     "data":{
      "text\/html":[
       "<pre>array([ 0. ,  2.5,  5. ,  7.5, 10. ])<\/pre>"
      ]
     },
     "metadata":{
      
     },
     "output_type":"display_data"
    }
   ],
   "metadata":{
    "datalore":{
     "node_id":"yOYuFMjJnylKm4gmD618AZ",
     "type":"CODE",
     "hide_input_from_viewers":true,
     "hide_output_from_viewers":true
    }
   }
  },
  {
   "cell_type":"code",
   "source":[
    "mlista = np.array(zlista)\n",
    "print(mlista)\n",
    "print(type(mlista))"
   ],
   "execution_count":8,
   "outputs":[
    {
     "name":"stdout",
     "text":[
      "[   4    7    5    8   64   25    6    8    5   78 5545    6]\n",
      "<class 'numpy.ndarray'>\n"
     ],
     "output_type":"stream"
    }
   ],
   "metadata":{
    "datalore":{
     "node_id":"FXQbkwHF1Yi5BLXw41Hihn",
     "type":"CODE",
     "hide_input_from_viewers":true,
     "hide_output_from_viewers":true
    }
   }
  },
  {
   "cell_type":"code",
   "source":[
    "kl = (4,323,5,2,787,64,3)\n",
    "knum = np.array(kl)\n",
    "print(knum)\n",
    "print(type(knum))"
   ],
   "execution_count":9,
   "outputs":[
    {
     "name":"stdout",
     "text":[
      "[  4 323   5   2 787  64   3]\n",
      "<class 'numpy.ndarray'>\n"
     ],
     "output_type":"stream"
    }
   ],
   "metadata":{
    "datalore":{
     "node_id":"SShd7E3vZPcj5wg3c3LKYN",
     "type":"CODE",
     "hide_input_from_viewers":true,
     "hide_output_from_viewers":true
    }
   }
  },
  {
   "cell_type":"code",
   "source":[
    "zl = {56,3,4,58,90,21,38,36,8,3,3}\n",
    "znum = np.array(zl)\n",
    "print(znum)\n",
    "print(type(znum))"
   ],
   "execution_count":10,
   "outputs":[
    {
     "name":"stdout",
     "text":[
      "{3, 4, 90, 38, 36, 8, 21, 56, 58}\n",
      "<class 'numpy.ndarray'>\n"
     ],
     "output_type":"stream"
    }
   ],
   "metadata":{
    "datalore":{
     "node_id":"0cvsKAutW3nCUznHF2sBNF",
     "type":"CODE",
     "hide_input_from_viewers":true,
     "hide_output_from_viewers":true
    }
   }
  },
  {
   "cell_type":"code",
   "source":[
    "knum.sort()\n",
    "print(knum)"
   ],
   "execution_count":11,
   "outputs":[
    {
     "name":"stdout",
     "text":[
      "[  2   3   4   5  64 323 787]\n"
     ],
     "output_type":"stream"
    }
   ],
   "metadata":{
    "datalore":{
     "node_id":"aIiJQMLfcTumo4f5mwzSlV",
     "type":"CODE",
     "hide_input_from_viewers":true,
     "hide_output_from_viewers":true
    }
   }
  },
  {
   "cell_type":"code",
   "source":[
    "# znum.sort()\n",
    "# print(znum)"
   ],
   "execution_count":12,
   "outputs":[
    
   ],
   "metadata":{
    "datalore":{
     "node_id":"km6anMbiVlT6T5gqBMW9zW",
     "type":"CODE",
     "hide_input_from_viewers":true,
     "hide_output_from_viewers":true
    }
   }
  },
  {
   "cell_type":"code",
   "source":[
    "l1 = [2,4,6,9]\n",
    "l2 = [5,6,78,9,13]\n",
    "l3 = [112,89,12]\n",
    "\n",
    "l1 = l1+l2+l3\n",
    "\n",
    "l1"
   ],
   "execution_count":13,
   "outputs":[
    {
     "data":{
      "text\/plain":[
       "[2, 4, 6, 9, 5, 6, 78, 9, 13, 112, 89, 12]"
      ]
     },
     "metadata":{
      
     },
     "output_type":"display_data"
    }
   ],
   "metadata":{
    "datalore":{
     "node_id":"dqUTElYqBWL9VRNyDTcMWK",
     "type":"CODE",
     "hide_input_from_viewers":true,
     "hide_output_from_viewers":true
    }
   }
  },
  {
   "cell_type":"code",
   "source":[
    "a = np.array(l1)\n",
    "b = np.array(l2)\n",
    "c = np.array(l3)"
   ],
   "execution_count":14,
   "outputs":[
    
   ],
   "metadata":{
    "datalore":{
     "node_id":"zBahCjylpuzKdIRcg9avIe",
     "type":"CODE",
     "hide_input_from_viewers":true,
     "hide_output_from_viewers":true
    }
   }
  },
  {
   "cell_type":"code",
   "source":[
    "# a = a+b+c\n",
    "a  = np.concatenate((a,b,c))\n",
    "a"
   ],
   "execution_count":15,
   "outputs":[
    {
     "data":{
      "text\/html":[
       "<pre>array([  2,   4,   6,   9,   5,   6,  78,   9,  13, 112,  89,  12,   5,\n",
       "         6,  78,   9,  13, 112,  89,  12])<\/pre>"
      ]
     },
     "metadata":{
      
     },
     "output_type":"display_data"
    }
   ],
   "metadata":{
    "datalore":{
     "node_id":"1dPnCvkC04wzSQDR8sFMld",
     "type":"CODE",
     "hide_input_from_viewers":true,
     "hide_output_from_viewers":true
    }
   }
  },
  {
   "cell_type":"code",
   "source":[
    "z1 = [[56,2],[64,2]]\n",
    "z1"
   ],
   "execution_count":16,
   "outputs":[
    {
     "data":{
      "text\/plain":[
       "[[56, 2], [64, 2]]"
      ]
     },
     "metadata":{
      
     },
     "output_type":"display_data"
    }
   ],
   "metadata":{
    "datalore":{
     "node_id":"FQvyy8aCgbEeUwCPeQ8GmM",
     "type":"CODE",
     "hide_input_from_viewers":true,
     "hide_output_from_viewers":true
    }
   }
  },
  {
   "cell_type":"code",
   "source":[
    "a1 = np.array([[2,9],[7,15]])\n",
    "a1"
   ],
   "execution_count":17,
   "outputs":[
    {
     "data":{
      "text\/html":[
       "<pre>array([[ 2,  9],\n",
       "       [ 7, 15]])<\/pre>"
      ]
     },
     "metadata":{
      
     },
     "output_type":"display_data"
    }
   ],
   "metadata":{
    "datalore":{
     "node_id":"n7NtJS3nXYINkzYhHZ9XIz",
     "type":"CODE",
     "hide_input_from_viewers":true,
     "hide_output_from_viewers":true
    }
   }
  },
  {
   "cell_type":"code",
   "source":[
    "z1[0][1]"
   ],
   "execution_count":18,
   "outputs":[
    {
     "data":{
      "text\/plain":[
       "2"
      ]
     },
     "metadata":{
      
     },
     "output_type":"display_data"
    }
   ],
   "metadata":{
    "datalore":{
     "node_id":"XiIQM6vOWbiqAr9dfAsrHM",
     "type":"CODE",
     "hide_input_from_viewers":true,
     "hide_output_from_viewers":true
    }
   }
  },
  {
   "cell_type":"code",
   "source":[
    "a1[0][1]"
   ],
   "execution_count":19,
   "outputs":[
    {
     "data":{
      "text\/plain":[
       "9"
      ]
     },
     "metadata":{
      
     },
     "output_type":"display_data"
    }
   ],
   "metadata":{
    "datalore":{
     "node_id":"f1CItzl5PaUggJ1z33XN6b",
     "type":"CODE",
     "hide_input_from_viewers":true,
     "hide_output_from_viewers":true
    }
   }
  },
  {
   "cell_type":"code",
   "source":[
    "a1[0,1]"
   ],
   "execution_count":20,
   "outputs":[
    {
     "data":{
      "text\/plain":[
       "9"
      ]
     },
     "metadata":{
      
     },
     "output_type":"display_data"
    }
   ],
   "metadata":{
    "datalore":{
     "node_id":"TyngiQHWjReoJV33x8k5OV",
     "type":"CODE",
     "hide_input_from_viewers":true,
     "hide_output_from_viewers":true
    }
   }
  },
  {
   "cell_type":"code",
   "source":[
    "x = np.array([[3,4],[6,8]])\n",
    "y = np.array([[7,11],[19,3]])\n",
    "\n",
    "p = np.concatenate((x,y),axis=1)\n",
    "p"
   ],
   "execution_count":21,
   "outputs":[
    {
     "data":{
      "text\/html":[
       "<pre>array([[ 3,  4,  7, 11],\n",
       "       [ 6,  8, 19,  3]])<\/pre>"
      ]
     },
     "metadata":{
      
     },
     "output_type":"display_data"
    }
   ],
   "metadata":{
    "datalore":{
     "node_id":"rw779dNUgVCRb5Vo7eA9KO",
     "type":"CODE",
     "hide_input_from_viewers":true,
     "hide_output_from_viewers":true
    }
   }
  },
  {
   "cell_type":"code",
   "source":[
    "prosta = np.arange(12)\n",
    "prosta"
   ],
   "execution_count":22,
   "outputs":[
    {
     "data":{
      "text\/html":[
       "<pre>array([ 0,  1,  2,  3,  4,  5,  6,  7,  8,  9, 10, 11])<\/pre>"
      ]
     },
     "metadata":{
      
     },
     "output_type":"display_data"
    }
   ],
   "metadata":{
    "datalore":{
     "node_id":"cYT7Hp6h1RYfouTP6dsQbM",
     "type":"CODE",
     "hide_input_from_viewers":true,
     "hide_output_from_viewers":true
    }
   }
  },
  {
   "cell_type":"code",
   "source":[
    "fp = prosta.reshape(3,4)\n",
    "fp"
   ],
   "execution_count":23,
   "outputs":[
    {
     "data":{
      "text\/html":[
       "<pre>array([[ 0,  1,  2,  3],\n",
       "       [ 4,  5,  6,  7],\n",
       "       [ 8,  9, 10, 11]])<\/pre>"
      ]
     },
     "metadata":{
      
     },
     "output_type":"display_data"
    }
   ],
   "metadata":{
    "datalore":{
     "node_id":"OfpMXw2TyPRHYhM5CFIbPm",
     "type":"CODE",
     "hide_input_from_viewers":true,
     "hide_output_from_viewers":true
    }
   }
  },
  {
   "cell_type":"code",
   "source":[
    "mac1 = np.array([[2,3],[4,5],[9,9]])\n",
    "\n",
    "mac1"
   ],
   "execution_count":24,
   "outputs":[
    {
     "data":{
      "text\/html":[
       "<pre>array([[2, 3],\n",
       "       [4, 5],\n",
       "       [9, 9]])<\/pre>"
      ]
     },
     "metadata":{
      
     },
     "output_type":"display_data"
    }
   ],
   "metadata":{
    "datalore":{
     "node_id":"u5VTaubQK2L48lh9k0S8qf",
     "type":"CODE",
     "hide_input_from_viewers":true,
     "hide_output_from_viewers":true
    }
   }
  },
  {
   "cell_type":"code",
   "source":[
    "mac1.shape"
   ],
   "execution_count":25,
   "outputs":[
    {
     "data":{
      "text\/plain":[
       "(3, 2)"
      ]
     },
     "metadata":{
      
     },
     "output_type":"display_data"
    }
   ],
   "metadata":{
    "datalore":{
     "node_id":"YBsb01IMA8xVA7pMvtTg0i",
     "type":"CODE",
     "hide_input_from_viewers":true,
     "hide_output_from_viewers":true
    }
   }
  },
  {
   "cell_type":"code",
   "source":[
    "w1 = mac1.reshape(6)\n",
    "w1"
   ],
   "execution_count":26,
   "outputs":[
    {
     "data":{
      "text\/html":[
       "<pre>array([2, 3, 4, 5, 9, 9])<\/pre>"
      ]
     },
     "metadata":{
      
     },
     "output_type":"display_data"
    }
   ],
   "metadata":{
    "datalore":{
     "node_id":"PHda02y4sDAxMw3VFQMtDP",
     "type":"CODE",
     "hide_input_from_viewers":true,
     "hide_output_from_viewers":true
    }
   }
  },
  {
   "cell_type":"code",
   "source":[
    "ar = np.array([1,6,78,9,1,4,21,24,12,1,1,3,-3])\n",
    "ar.shape"
   ],
   "execution_count":27,
   "outputs":[
    {
     "data":{
      "text\/plain":[
       "(13,)"
      ]
     },
     "metadata":{
      
     },
     "output_type":"display_data"
    }
   ],
   "metadata":{
    "datalore":{
     "node_id":"UJzuAgaJuvmPnuUdwxJloZ",
     "type":"CODE",
     "hide_input_from_viewers":true,
     "hide_output_from_viewers":true
    }
   }
  },
  {
   "cell_type":"code",
   "source":[
    "ar[:7]"
   ],
   "execution_count":28,
   "outputs":[
    {
     "data":{
      "text\/html":[
       "<pre>array([ 1,  6, 78,  9,  1,  4, 21])<\/pre>"
      ]
     },
     "metadata":{
      
     },
     "output_type":"display_data"
    }
   ],
   "metadata":{
    "datalore":{
     "node_id":"tbf9m9dZIYe82UuHIVja7v",
     "type":"CODE",
     "hide_input_from_viewers":true,
     "hide_output_from_viewers":true
    }
   }
  },
  {
   "cell_type":"code",
   "source":[
    "ar[2:5]"
   ],
   "execution_count":29,
   "outputs":[
    {
     "data":{
      "text\/html":[
       "<pre>array([78,  9,  1])<\/pre>"
      ]
     },
     "metadata":{
      
     },
     "output_type":"display_data"
    }
   ],
   "metadata":{
    "datalore":{
     "node_id":"a9L6B1XzBCF2deLxhMGFhz",
     "type":"CODE",
     "hide_input_from_viewers":true,
     "hide_output_from_viewers":true
    }
   }
  },
  {
   "cell_type":"code",
   "source":[
    "w = np.array([[1,2,3,4],[9,10,11,12],[35,36,21,99]])\n",
    "w"
   ],
   "execution_count":30,
   "outputs":[
    {
     "data":{
      "text\/html":[
       "<pre>array([[ 1,  2,  3,  4],\n",
       "       [ 9, 10, 11, 12],\n",
       "       [35, 36, 21, 99]])<\/pre>"
      ]
     },
     "metadata":{
      
     },
     "output_type":"display_data"
    }
   ],
   "metadata":{
    "datalore":{
     "node_id":"KOUd18iL2pdOnsvKxKXOkZ",
     "type":"CODE",
     "hide_input_from_viewers":true,
     "hide_output_from_viewers":true
    }
   }
  },
  {
   "cell_type":"code",
   "source":[
    "w[w<5]"
   ],
   "execution_count":31,
   "outputs":[
    {
     "data":{
      "text\/html":[
       "<pre>array([1, 2, 3, 4])<\/pre>"
      ]
     },
     "metadata":{
      
     },
     "output_type":"display_data"
    }
   ],
   "metadata":{
    "datalore":{
     "node_id":"gWy7kbIeesrs0vfqgIRanH",
     "type":"CODE",
     "hide_input_from_viewers":true,
     "hide_output_from_viewers":true
    }
   }
  },
  {
   "cell_type":"code",
   "source":[
    "pc = (w>5)\n",
    "w[pc]"
   ],
   "execution_count":32,
   "outputs":[
    {
     "data":{
      "text\/html":[
       "<pre>array([ 9, 10, 11, 12, 35, 36, 21, 99])<\/pre>"
      ]
     },
     "metadata":{
      
     },
     "output_type":"display_data"
    }
   ],
   "metadata":{
    "datalore":{
     "node_id":"4U3BOlZlTa6hqmpIbZGpCL",
     "type":"CODE",
     "hide_input_from_viewers":true,
     "hide_output_from_viewers":true
    }
   }
  },
  {
   "cell_type":"code",
   "source":[
    "pv = (w%2==0)\n",
    "w[pv]"
   ],
   "execution_count":33,
   "outputs":[
    {
     "data":{
      "text\/html":[
       "<pre>array([ 2,  4, 10, 12, 36])<\/pre>"
      ]
     },
     "metadata":{
      
     },
     "output_type":"display_data"
    }
   ],
   "metadata":{
    "datalore":{
     "node_id":"n5T4249bSgjHTELpDoXMul",
     "type":"CODE",
     "hide_input_from_viewers":true,
     "hide_output_from_viewers":true
    }
   }
  },
  {
   "cell_type":"code",
   "source":[
    "cv = w[(w>2)&(w<21)]\n",
    "cv"
   ],
   "execution_count":34,
   "outputs":[
    {
     "data":{
      "text\/html":[
       "<pre>array([ 3,  4,  9, 10, 11, 12])<\/pre>"
      ]
     },
     "metadata":{
      
     },
     "output_type":"display_data"
    }
   ],
   "metadata":{
    "datalore":{
     "node_id":"YfhxGsYEtn4oPmN9mi1Bez",
     "type":"CODE",
     "hide_input_from_viewers":true,
     "hide_output_from_viewers":true
    }
   }
  },
  {
   "cell_type":"code",
   "source":[
    "sv = w[(w<8)|(w>50)]\n",
    "sv"
   ],
   "execution_count":35,
   "outputs":[
    {
     "data":{
      "text\/html":[
       "<pre>array([ 1,  2,  3,  4, 99])<\/pre>"
      ]
     },
     "metadata":{
      
     },
     "output_type":"display_data"
    }
   ],
   "metadata":{
    "datalore":{
     "node_id":"mXAFXBCm3J3T4ioeqoqQ2q",
     "type":"CODE",
     "hide_input_from_viewers":true,
     "hide_output_from_viewers":true
    }
   }
  },
  {
   "cell_type":"code",
   "source":[
    "#operacje arytmetyczne na wektorach (macierzach)\n",
    "dane = np.array([1,3,8])\n",
    "ones = np.ones(3,dtype=int)\n",
    "tw = np.array([2,2,3])"
   ],
   "execution_count":36,
   "outputs":[
    
   ],
   "metadata":{
    "datalore":{
     "node_id":"zBmCkRp7JksXXShqA8SAE4",
     "type":"CODE",
     "hide_input_from_viewers":true,
     "hide_output_from_viewers":true
    }
   }
  },
  {
   "cell_type":"code",
   "source":[
    "print(dane+ones)"
   ],
   "execution_count":37,
   "outputs":[
    {
     "name":"stdout",
     "text":[
      "[2 4 9]\n"
     ],
     "output_type":"stream"
    }
   ],
   "metadata":{
    "datalore":{
     "node_id":"Kzo9dDvSY3igFPAmY5qYm9",
     "type":"CODE",
     "hide_input_from_viewers":true,
     "hide_output_from_viewers":true
    }
   }
  },
  {
   "cell_type":"code",
   "source":[
    "print(dane-ones)"
   ],
   "execution_count":38,
   "outputs":[
    {
     "name":"stdout",
     "text":[
      "[0 2 7]\n"
     ],
     "output_type":"stream"
    }
   ],
   "metadata":{
    "datalore":{
     "node_id":"t4e217WTkepZczAKch8In8",
     "type":"CODE",
     "hide_input_from_viewers":true,
     "hide_output_from_viewers":true
    }
   }
  },
  {
   "cell_type":"code",
   "source":[
    "print(dane*tw)"
   ],
   "execution_count":39,
   "outputs":[
    {
     "name":"stdout",
     "text":[
      "[ 2  6 24]\n"
     ],
     "output_type":"stream"
    }
   ],
   "metadata":{
    "datalore":{
     "node_id":"NSjxw8jnN1YlPkzPeQXhHW",
     "type":"CODE",
     "hide_input_from_viewers":true,
     "hide_output_from_viewers":true
    }
   }
  },
  {
   "cell_type":"code",
   "source":[
    "print(dane\/tw)"
   ],
   "execution_count":40,
   "outputs":[
    {
     "name":"stdout",
     "text":[
      "[0.5        1.5        2.66666667]\n"
     ],
     "output_type":"stream"
    }
   ],
   "metadata":{
    "datalore":{
     "node_id":"WWdK4taqUcOC7IjQkpkH41",
     "type":"CODE",
     "hide_input_from_viewers":true,
     "hide_output_from_viewers":true
    }
   }
  },
  {
   "cell_type":"code",
   "source":[
    "print(dane*1.88)"
   ],
   "execution_count":41,
   "outputs":[
    {
     "name":"stdout",
     "text":[
      "[ 1.88  5.64 15.04]\n"
     ],
     "output_type":"stream"
    }
   ],
   "metadata":{
    "datalore":{
     "node_id":"S1YKrbvWcgZ7MsU0GmXe4H",
     "type":"CODE",
     "hide_input_from_viewers":true,
     "hide_output_from_viewers":true
    }
   }
  },
  {
   "cell_type":"code",
   "source":[
    "inny = np.array([3,3,2,2])"
   ],
   "execution_count":42,
   "outputs":[
    
   ],
   "metadata":{
    "datalore":{
     "node_id":"Qo4hGIjW0xpzwgGDmzri8F",
     "type":"CODE",
     "hide_input_from_viewers":true,
     "hide_output_from_viewers":true
    }
   }
  },
  {
   "cell_type":"code",
   "source":[
    "# print(dane + inny)\n",
    "#szybki komentarz CTRL + \/\n",
    "# print(np.dot(dane,inny))"
   ],
   "execution_count":48,
   "outputs":[
    
   ],
   "metadata":{
    "datalore":{
     "node_id":"guHvGsmkPEEjKLAp4fUIcA",
     "type":"CODE",
     "hide_input_from_viewers":true,
     "hide_output_from_viewers":true
    }
   }
  },
  {
   "cell_type":"code",
   "source":[
    "m1 = np.array([[4,8,11],[67,101,3],[1,1,77]])\n",
    "m2 = np.array([[78,5,4],[11,12,55],[0,6,12]])\n",
    "wynik = (m1+m2)*m1\n",
    "wynik"
   ],
   "execution_count":49,
   "outputs":[
    {
     "data":{
      "text\/html":[
       "<pre>array([[  328,   104,   165],\n",
       "       [ 5226, 11413,   174],\n",
       "       [    1,     7,  6853]])<\/pre>"
      ]
     },
     "metadata":{
      
     },
     "output_type":"display_data"
    }
   ],
   "metadata":{
    "datalore":{
     "node_id":"yxZvNE00CHPTi8MqR1M1rM",
     "type":"CODE",
     "hide_input_from_viewers":true,
     "hide_output_from_viewers":true
    }
   }
  },
  {
   "cell_type":"code",
   "source":[
    "print(f'wartość najmniejsza: {wynik.min()}')\n",
    "print(f'wartość największa: {wynik.max()}')\n",
    "print(f'wartość średnia: {wynik.mean()}')"
   ],
   "execution_count":50,
   "outputs":[
    {
     "name":"stdout",
     "text":[
      "wartość najmniejsza: 1\n",
      "wartość największa: 11413\n",
      "wartość średnia: 2696.777777777778\n"
     ],
     "output_type":"stream"
    }
   ],
   "metadata":{
    "datalore":{
     "node_id":"k5cgOCvsEY1f6JEsN2apR6",
     "type":"CODE",
     "hide_input_from_viewers":true,
     "hide_output_from_viewers":true
    }
   }
  }
 ],
 "metadata":{
  "kernelspec":{
   "display_name":"Python",
   "language":"python",
   "name":"python"
  },
  "datalore":{
   "computation_mode":"REACTIVE",
   "package_manager":"pip",
   "base_environment":"default",
   "packages":[
    
   ],
   "report_row_ids":[
    
   ],
   "version":3
  }
 },
 "nbformat":4,
 "nbformat_minor":4
}